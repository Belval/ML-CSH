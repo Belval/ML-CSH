{
 "cells": [
  {
   "cell_type": "code",
   "execution_count": 1,
   "metadata": {},
   "outputs": [],
   "source": [
    "# On importe un dataset comme MNIST qui sert à la classification de chiffes\n",
    "import random\n",
    "from sklearn import datasets, svm, metrics\n",
    "import numpy as np\n",
    "import matplotlib.pyplot as plt"
   ]
  },
  {
   "cell_type": "code",
   "execution_count": 2,
   "metadata": {},
   "outputs": [],
   "source": [
    "# On télécharge le dataset\n",
    "mnist = datasets.fetch_openml('mnist_784')\n",
    "random.seed(0)\n",
    "n_train = 5000\n",
    "n_test = 5000\n",
    "train_idx = np.arange(0, 35000)[0:5000]\n",
    "test_idx = np.arange(35001+1, 70000)[0:5000]"
   ]
  },
  {
   "cell_type": "code",
   "execution_count": 3,
   "metadata": {},
   "outputs": [
    {
     "data": {
      "image/png": "[encoded data removed]",
      "text/plain": [
       "<Figure size 432x288 with 4 Axes>"
      ]
     },
     "metadata": {
      "needs_background": "light"
     },
     "output_type": "display_data"
    }
   ],
   "source": [
    "# On affiche quelques images\n",
    "for index, (image, label) in enumerate(list(zip(mnist.data, mnist.target))[:4]):\n",
    "    plt.subplot(2, 4, index + 1)\n",
    "    plt.axis('off')\n",
    "    plt.imshow(image.reshape(28, 28), cmap=plt.cm.gray_r, interpolation='nearest')\n",
    "    plt.title(f'Exemple: {label}')"
   ]
  },
  {
   "cell_type": "code",
   "execution_count": 27,
   "metadata": {},
   "outputs": [],
   "source": [
    "# On crée notre classficateur, ici un SVM (https://en.wikipedia.org/wiki/Support-vector_machine)\n",
    "classificateur = svm.SVC(C=5, kernel='rbf', gamma=0.05)"
   ]
  },
  {
   "cell_type": "code",
   "execution_count": 28,
   "metadata": {},
   "outputs": [
    {
     "data": {
      "text/plain": [
       "SVC(C=5, cache_size=200, class_weight=None, coef0=0.0,\n",
       "    decision_function_shape='ovr', degree=3, gamma=0.05, kernel='rbf',\n",
       "    max_iter=-1, probability=False, random_state=None, shrinking=True,\n",
       "    tol=0.001, verbose=False)"
      ]
     },
     "execution_count": 28,
     "metadata": {},
     "output_type": "execute_result"
    }
   ],
   "source": [
    "# On entraîne le classficateur avec les 5000 premiers exemples\n",
    "classificateur.fit(\n",
    "    mnist.data[train_idx] / 255,\n",
    "    mnist.target[train_idx].astype(np.uint8)\n",
    ")"
   ]
  },
  {
   "cell_type": "code",
   "execution_count": 29,
   "metadata": {},
   "outputs": [
    {
     "name": "stdout",
     "output_type": "stream",
     "text": [
      "Résultats SVC(C=5, cache_size=200, class_weight=None, coef0=0.0,\n",
      "    decision_function_shape='ovr', degree=3, gamma=0.05, kernel='rbf',\n",
      "    max_iter=-1, probability=False, random_state=None, shrinking=True,\n",
      "    tol=0.001, verbose=False):\n",
      "              precision    recall  f1-score   support\n",
      "\n",
      "           0       0.97      0.97      0.97       490\n",
      "           1       0.99      0.97      0.98       559\n",
      "           2       0.90      0.96      0.93       509\n",
      "           3       0.95      0.92      0.94       505\n",
      "           4       0.93      0.97      0.95       499\n",
      "           5       0.92      0.92      0.92       454\n",
      "           6       0.97      0.94      0.96       510\n",
      "           7       0.97      0.96      0.96       495\n",
      "           8       0.93      0.94      0.93       487\n",
      "           9       0.95      0.93      0.94       492\n",
      "\n",
      "    accuracy                           0.95      5000\n",
      "   macro avg       0.95      0.95      0.95      5000\n",
      "weighted avg       0.95      0.95      0.95      5000\n",
      "\n",
      "\n",
      "Confusion matrix:\n",
      "[[473   0   4   0   0   5   4   0   4   0]\n",
      " [  0 545   5   0   1   1   0   1   3   3]\n",
      " [  1   0 489   1   6   1   0   4   5   2]\n",
      " [  1   0  13 467   0  11   0   4   8   1]\n",
      " [  0   0   5   0 485   0   3   1   1   4]\n",
      " [  1   0   6  12   5 417   3   0   8   2]\n",
      " [  6   0   8   0   2  10 481   0   3   0]\n",
      " [  1   3   2   2   7   0   0 473   0   7]\n",
      " [  2   1   8   4   2   5   3   0 457   5]\n",
      " [  1   1   2   6  15   1   0   7   3 456]]\n"
     ]
    },
    {
     "data": {
      "image/png": "[encoded data removed]",
      "text/plain": [
       "<Figure size 432x288 with 4 Axes>"
      ]
     },
     "metadata": {
      "needs_background": "light"
     },
     "output_type": "display_data"
    }
   ],
   "source": [
    "# On teste le classificateur pour voir s'il est généralisable à nos données de test\n",
    "classes_attendues = mnist.target[test_idx].astype(np.uint8)\n",
    "predictions = classificateur.predict(mnist.data[test_idx] / 255)\n",
    "\n",
    "print(\"Résultats %s:\\n%s\\n\"\n",
    "      % (classificateur, metrics.classification_report(classes_attendues, predictions)))\n",
    "print(\"Confusion matrix:\\n%s\" % metrics.confusion_matrix(classes_attendues, predictions))\n",
    "\n",
    "for index, (image, prediction) in enumerate(list(zip(mnist.data[5000:10000], predictions))[:4]):\n",
    "    plt.subplot(2, 4, index + 5)\n",
    "    plt.axis('off')\n",
    "    plt.imshow(image.reshape(28, 28), cmap=plt.cm.gray_r, interpolation='nearest')\n",
    "    plt.title('Prédiction: %i' % prediction)\n",
    "\n",
    "plt.show()"
   ]
  }
 ],
 "metadata": {
  "kernelspec": {
   "display_name": "Python 3",
   "language": "python",
   "name": "python3"
  }
 },
 "nbformat": 4,
 "nbformat_minor": 2
}
